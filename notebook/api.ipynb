{
 "cells": [
  {
   "cell_type": "code",
   "execution_count": 22,
   "id": "68f02a63",
   "metadata": {},
   "outputs": [],
   "source": [
    "import pathlib\n",
    "from typing import List\n",
    "import json\n",
    "import gzip\n",
    "import argparse\n",
    "\n",
    "import aiohttp\n",
    "import asyncio    \n",
    "import logging\n",
    "import logging.config\n",
    "import yaml\n",
    "import os"
   ]
  },
  {
   "cell_type": "code",
   "execution_count": 18,
   "id": "50c0bbcf",
   "metadata": {},
   "outputs": [],
   "source": [
    "def read_config(config_file=\"config.yml\"):\n",
    "\t\"\"\"Read project configuration from a yaml file.\n",
    "\n",
    "\tArgs:\n",
    "\t\t\tconfig_file (str, optional): Path to the config file. Defaults to \"config.yml\".\n",
    "\n",
    "\tReturns:\n",
    "\t\t\tDict: The parsed config in a python dict\n",
    "\t\"\"\"\n",
    "\twith open(config_file) as config_file:\n",
    "\t\tconfig = yaml.load(config_file, yaml.Loader)\n",
    "\t\treturn config\n"
   ]
  },
  {
   "cell_type": "code",
   "execution_count": 19,
   "id": "b149002f",
   "metadata": {},
   "outputs": [],
   "source": [
    "config = read_config(\"../config.yaml\")['acquire']"
   ]
  },
  {
   "cell_type": "code",
   "execution_count": 21,
   "id": "d7fb2c66",
   "metadata": {},
   "outputs": [
    {
     "data": {
      "text/plain": [
       "'transfermarkt-datasets/1.0 (https://github.com/dcaribou/transfermarkt-datasets)'"
      ]
     },
     "execution_count": 21,
     "metadata": {},
     "output_type": "execute_result"
    }
   ],
   "source": [
    "MARKET_VALUES_API = \"https://www.transfermarkt.com/ceapi/marketValueDevelopment/graph/\"\n",
    "TRANSFERS_API = \"https://www.transfermarkt.co.uk/ceapi/transferHistory/list/\"\n",
    "USER_AGENT = config['scrapy_config']['USER_AGENT']\n",
    "USER_AGENT"
   ]
  },
  {
   "cell_type": "code",
   "execution_count": 23,
   "id": "cfb3f738",
   "metadata": {},
   "outputs": [],
   "source": [
    "# get the player ids from the players asset from transfermarkt-scraper source\n",
    "def get_player_ids(season: int) -> List[int]:\n",
    "    \"\"\"Get the player ids from the players asset from transfermarkt-scraper source.\n",
    "\n",
    "    Returns:\n",
    "        List[int]: List of player ids\n",
    "    \"\"\"\n",
    "\n",
    "    # set output directory\n",
    "    output_dir = f\"../data/raw/{season}/\"\n",
    "    \n",
    "    # create the path if it does not exist\n",
    "    os.makedir(players_asset_path, exist_ok=True, parents=True)\n",
    "    players_asset_path = os.path.join(output_dir, \"players.json.gz\")\n",
    "\n",
    "    # read lines from a zipped file\n",
    "    with gzip.open(players_asset_path, mode=\"r\") as z:\n",
    "        players = [json.loads(line) for line in z.readlines()]\n",
    "\n",
    "    player_ids = [\n",
    "        int(player[\"href\"].split(\"/\")[-1])\n",
    "        for player in players\n",
    "    ]\n",
    "    logging.info(f\"Fetched {len(player_ids)} player ids from {players_asset_path}\")\n",
    "\n",
    "    return player_ids"
   ]
  },
  {
   "cell_type": "code",
   "execution_count": 24,
   "id": "7ffbc4d0",
   "metadata": {},
   "outputs": [],
   "source": [
    "# helper function to fetch data from API\n",
    "async def fetch_data(session, url, player_id):\n",
    "    \"\"\"Fetch data from the API for a given URL and player ID.\n",
    "\n",
    "    Args:\n",
    "        session (aiohttp.ClientSession): The aiohttp session\n",
    "        url (str): The API URL\n",
    "        player_id (int): The player ID\n",
    "\n",
    "    Returns:\n",
    "        dict: The API response and player ID\n",
    "    \"\"\"\n",
    "    headers = {\n",
    "        'Content-Type': 'application/json',\n",
    "        'User-Agent': USER_AGENT\n",
    "    }\n",
    "\n",
    "    async with session.get(url=url, headers=headers, ssl=False) as response:\n",
    "        try:\n",
    "            json = await response.json()\n",
    "            return {\"response\": json, \"player_id\": player_id}\n",
    "        except aiohttp.ContentTypeError as e:\n",
    "            logging.error(f\"Failed to fetch data for player {player_id}: {e}\")\n",
    "            return {\"response\": None, \"player_id\": player_id}\n"
   ]
  },
  {
   "cell_type": "code",
   "execution_count": 25,
   "id": "53dcd2b2",
   "metadata": {},
   "outputs": [],
   "source": [
    "# for each player id, get the market value data from the API\n",
    "async def get_market_values(player_ids: List[int]) -> List[dict]:\n",
    "    \"\"\"Get the market value data from the API for each player id.\n",
    "\n",
    "    Args:\n",
    "        player_ids (List[int]): List of player ids\n",
    "\n",
    "    Returns:\n",
    "        List[dict]: List of dicts with market value data\n",
    "    \"\"\"\n",
    "\n",
    "    logging.info(f\"Requesting market values for {len(player_ids)} players\")\n",
    "\n",
    "    async with aiohttp.ClientSession() as session:\n",
    "        tasks = [fetch_data(session, MARKET_VALUES_API + str(player_id), player_id) for player_id in player_ids]\n",
    "\n",
    "        # Use asyncio.gather to execute the tasks concurrently\n",
    "        responses = await asyncio.gather(*tasks)\n",
    "\n",
    "    return responses"
   ]
  },
  {
   "cell_type": "code",
   "execution_count": 26,
   "id": "1a6d13a0",
   "metadata": {},
   "outputs": [],
   "source": [
    "# for each player id, get the transfer history data from the API\n",
    "async def get_transfers(player_ids: List[int]) -> List[dict]:\n",
    "    \"\"\"Get the transfer history data from the API for each player id.\n",
    "\n",
    "    Args:\n",
    "        player_ids (List[int]): List of player ids\n",
    "\n",
    "    Returns:\n",
    "        List[dict]: List of dicts with transfer history data\n",
    "    \"\"\"\n",
    "\n",
    "    logging.info(f\"Requesting transfer history for {len(player_ids)} players\")\n",
    "\n",
    "    async with aiohttp.ClientSession() as session:\n",
    "        tasks = [fetch_data(session, TRANSFERS_API + str(player_id), player_id) for player_id in player_ids]\n",
    "\n",
    "        # Use asyncio.gather to execute the tasks concurrently\n",
    "        responses = await asyncio.gather(*tasks)\n",
    "\n",
    "    return responses\n"
   ]
  },
  {
   "cell_type": "code",
   "execution_count": 27,
   "id": "5d673e31",
   "metadata": {},
   "outputs": [],
   "source": [
    "def persist_data(data: List[dict], path: str) -> None:\n",
    "    \"\"\"Persist the data to a file.\n",
    "\n",
    "    Args:\n",
    "        data (List[dict]): List of dicts with data to persist\n",
    "        path (str): Path where to store the data\n",
    "    \"\"\"\n",
    "    with open(path, \"w\") as f:\n",
    "        f.writelines(json.dumps(item) + \"\\n\" for item in data)"
   ]
  },
  {
   "cell_type": "code",
   "execution_count": 15,
   "id": "b8d5baa9",
   "metadata": {},
   "outputs": [],
   "source": [
    "def run_for_season(season: int) -> None:\n",
    "    \"\"\"Run all steps for a given season.\n",
    "\n",
    "    Args:\n",
    "        season (int): The season to process\n",
    "    \"\"\"\n",
    "    target_market_values_path = f\"data/raw/transfermarkt-api/{season}/market_values.json\"\n",
    "    target_transfers_path = f\"data/raw/transfermarkt-api/{season}/transfers.json\"\n",
    "\n",
    "    logging.info(f\"Starting player data acquisition for season {season}\")\n",
    "\n",
    "    # create target directories if they do not exist\n",
    "    pathlib.Path(target_market_values_path).parent.mkdir(parents=True, exist_ok=True)\n",
    "    pathlib.Path(target_transfers_path).parent.mkdir(parents=True, exist_ok=True)\n",
    "\n",
    "    # get player IDs for the season\n",
    "    player_ids = get_player_ids(season)\n",
    "\n",
    "    # collect market values and transfers for players in SEASON\n",
    "    market_values = asyncio.run(get_market_values(player_ids))\n",
    "    transfers = asyncio.run(get_transfers(player_ids))\n",
    "\n",
    "    # filter out player ids in responses that are not in the original list\n",
    "    transfers = [item for item in transfers if item[\"player_id\"] in player_ids]\n",
    "\n",
    "    logging.info(f\"Persisting market values and transfers for season {season}\")\n",
    "\n",
    "    # persist market values and transfers to files\n",
    "    persist_data(market_values, target_market_values_path)\n",
    "    persist_data(transfers, target_transfers_path)"
   ]
  },
  {
   "cell_type": "code",
   "execution_count": null,
   "id": "23e65ede",
   "metadata": {},
   "outputs": [],
   "source": []
  },
  {
   "cell_type": "code",
   "execution_count": null,
   "id": "843b4b31",
   "metadata": {},
   "outputs": [],
   "source": []
  },
  {
   "cell_type": "code",
   "execution_count": null,
   "id": "eaf57944",
   "metadata": {},
   "outputs": [],
   "source": []
  },
  {
   "cell_type": "code",
   "execution_count": null,
   "id": "76ede184",
   "metadata": {},
   "outputs": [],
   "source": []
  },
  {
   "cell_type": "code",
   "execution_count": null,
   "id": "0ff45db1",
   "metadata": {},
   "outputs": [],
   "source": []
  },
  {
   "cell_type": "code",
   "execution_count": null,
   "id": "8d7362b6",
   "metadata": {},
   "outputs": [],
   "source": []
  },
  {
   "cell_type": "code",
   "execution_count": null,
   "id": "ebbf3866",
   "metadata": {},
   "outputs": [],
   "source": []
  },
  {
   "cell_type": "code",
   "execution_count": null,
   "id": "d328424e",
   "metadata": {},
   "outputs": [],
   "source": []
  }
 ],
 "metadata": {
  "kernelspec": {
   "display_name": "dev",
   "language": "python",
   "name": "python3"
  },
  "language_info": {
   "codemirror_mode": {
    "name": "ipython",
    "version": 3
   },
   "file_extension": ".py",
   "mimetype": "text/x-python",
   "name": "python",
   "nbconvert_exporter": "python",
   "pygments_lexer": "ipython3",
   "version": "3.12.11"
  }
 },
 "nbformat": 4,
 "nbformat_minor": 5
}
