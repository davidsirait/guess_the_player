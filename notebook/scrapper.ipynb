{
 "cells": [
  {
   "cell_type": "code",
   "execution_count": 17,
   "id": "a38d5f74",
   "metadata": {},
   "outputs": [],
   "source": [
    "import duckdb"
   ]
  },
  {
   "cell_type": "code",
   "execution_count": 31,
   "id": "0a538b2d",
   "metadata": {},
   "outputs": [],
   "source": [
    "# set the query\n",
    "query = f\"\"\" SELECT * FROM transfers; \"\"\""
   ]
  },
  {
   "cell_type": "code",
   "execution_count": 32,
   "id": "c7385162",
   "metadata": {},
   "outputs": [],
   "source": [
    "# get data from db\n",
    "conn = duckdb.connect('../transfermarkt.db')\n",
    "try:\n",
    "    df = conn.sql(query).df()\n",
    "    # results = conn.execute(query).fetchall()\n",
    "except Exception as e:\n",
    "    print(f\"Error: {e}\")\n",
    "finally:\n",
    "    conn.close()"
   ]
  },
  {
   "cell_type": "code",
   "execution_count": 33,
   "id": "674da6fd",
   "metadata": {},
   "outputs": [
    {
     "data": {
      "text/html": [
       "<div>\n",
       "<style scoped>\n",
       "    .dataframe tbody tr th:only-of-type {\n",
       "        vertical-align: middle;\n",
       "    }\n",
       "\n",
       "    .dataframe tbody tr th {\n",
       "        vertical-align: top;\n",
       "    }\n",
       "\n",
       "    .dataframe thead th {\n",
       "        text-align: right;\n",
       "    }\n",
       "</style>\n",
       "<table border=\"1\" class=\"dataframe\">\n",
       "  <thead>\n",
       "    <tr style=\"text-align: right;\">\n",
       "      <th></th>\n",
       "      <th>player_id</th>\n",
       "      <th>player_name</th>\n",
       "      <th>transfers_json</th>\n",
       "      <th>created_at</th>\n",
       "      <th>updated_at</th>\n",
       "    </tr>\n",
       "  </thead>\n",
       "  <tbody>\n",
       "    <tr>\n",
       "      <th>0</th>\n",
       "      <td>684210</td>\n",
       "      <td>Jaidon Anthony</td>\n",
       "      <td>[{\"season\": \"25/26\", \"fee\": \"\\u20ac9.50m\", \"fr...</td>\n",
       "      <td>2025-10-23 17:03:38.981</td>\n",
       "      <td>2025-10-23 17:03:38.981</td>\n",
       "    </tr>\n",
       "    <tr>\n",
       "      <th>1</th>\n",
       "      <td>342046</td>\n",
       "      <td>Axel Tuanzebe</td>\n",
       "      <td>[{\"season\": \"25/26\", \"fee\": \"free transfer\", \"...</td>\n",
       "      <td>2025-10-23 17:03:38.984</td>\n",
       "      <td>2025-10-23 17:03:38.984</td>\n",
       "    </tr>\n",
       "    <tr>\n",
       "      <th>2</th>\n",
       "      <td>415970</td>\n",
       "      <td>Joe Worrall</td>\n",
       "      <td>[{\"season\": \"24/25\", \"fee\": \"\\u20ac5.90m\", \"fr...</td>\n",
       "      <td>2025-10-23 17:03:38.986</td>\n",
       "      <td>2025-10-23 17:03:38.986</td>\n",
       "    </tr>\n",
       "    <tr>\n",
       "      <th>3</th>\n",
       "      <td>607226</td>\n",
       "      <td>Loum Tchaouna</td>\n",
       "      <td>[{\"season\": \"25/26\", \"fee\": \"\\u20ac15.15m\", \"f...</td>\n",
       "      <td>2025-10-23 17:03:38.986</td>\n",
       "      <td>2025-10-23 17:03:38.986</td>\n",
       "    </tr>\n",
       "    <tr>\n",
       "      <th>4</th>\n",
       "      <td>214666</td>\n",
       "      <td>Connor Roberts</td>\n",
       "      <td>[{\"season\": \"23/24\", \"fee\": \"End of loan\", \"fr...</td>\n",
       "      <td>2025-10-23 17:03:38.989</td>\n",
       "      <td>2025-10-23 17:03:38.989</td>\n",
       "    </tr>\n",
       "  </tbody>\n",
       "</table>\n",
       "</div>"
      ],
      "text/plain": [
       "  player_id     player_name  \\\n",
       "0    684210  Jaidon Anthony   \n",
       "1    342046   Axel Tuanzebe   \n",
       "2    415970     Joe Worrall   \n",
       "3    607226   Loum Tchaouna   \n",
       "4    214666  Connor Roberts   \n",
       "\n",
       "                                      transfers_json              created_at  \\\n",
       "0  [{\"season\": \"25/26\", \"fee\": \"\\u20ac9.50m\", \"fr... 2025-10-23 17:03:38.981   \n",
       "1  [{\"season\": \"25/26\", \"fee\": \"free transfer\", \"... 2025-10-23 17:03:38.984   \n",
       "2  [{\"season\": \"24/25\", \"fee\": \"\\u20ac5.90m\", \"fr... 2025-10-23 17:03:38.986   \n",
       "3  [{\"season\": \"25/26\", \"fee\": \"\\u20ac15.15m\", \"f... 2025-10-23 17:03:38.986   \n",
       "4  [{\"season\": \"23/24\", \"fee\": \"End of loan\", \"fr... 2025-10-23 17:03:38.989   \n",
       "\n",
       "               updated_at  \n",
       "0 2025-10-23 17:03:38.981  \n",
       "1 2025-10-23 17:03:38.984  \n",
       "2 2025-10-23 17:03:38.986  \n",
       "3 2025-10-23 17:03:38.986  \n",
       "4 2025-10-23 17:03:38.989  "
      ]
     },
     "execution_count": 33,
     "metadata": {},
     "output_type": "execute_result"
    }
   ],
   "source": [
    "df.head()"
   ]
  },
  {
   "cell_type": "code",
   "execution_count": null,
   "id": "8affbb77",
   "metadata": {},
   "outputs": [],
   "source": []
  },
  {
   "cell_type": "code",
   "execution_count": null,
   "id": "0b725d81",
   "metadata": {},
   "outputs": [],
   "source": []
  },
  {
   "cell_type": "code",
   "execution_count": null,
   "id": "bf5bd1a3",
   "metadata": {},
   "outputs": [],
   "source": []
  },
  {
   "cell_type": "code",
   "execution_count": null,
   "id": "d5fcc75b",
   "metadata": {},
   "outputs": [],
   "source": []
  },
  {
   "cell_type": "code",
   "execution_count": null,
   "id": "cc9f6c2a",
   "metadata": {},
   "outputs": [],
   "source": []
  },
  {
   "cell_type": "code",
   "execution_count": null,
   "id": "3685ec78",
   "metadata": {},
   "outputs": [],
   "source": []
  },
  {
   "cell_type": "code",
   "execution_count": null,
   "id": "7620de2c",
   "metadata": {},
   "outputs": [],
   "source": []
  }
 ],
 "metadata": {
  "kernelspec": {
   "display_name": "dev",
   "language": "python",
   "name": "python3"
  },
  "language_info": {
   "codemirror_mode": {
    "name": "ipython",
    "version": 3
   },
   "file_extension": ".py",
   "mimetype": "text/x-python",
   "name": "python",
   "nbconvert_exporter": "python",
   "pygments_lexer": "ipython3",
   "version": "3.12.11"
  }
 },
 "nbformat": 4,
 "nbformat_minor": 5
}
